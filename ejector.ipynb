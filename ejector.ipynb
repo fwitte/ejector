{
 "cells": [
  {
   "cell_type": "code",
   "execution_count": 39,
   "metadata": {},
   "outputs": [],
   "source": [
    "from math import pi\n",
    "from CoolProp.CoolProp import PropsSI"
   ]
  },
  {
   "cell_type": "code",
   "execution_count": 40,
   "metadata": {},
   "outputs": [
    {
     "data": {
      "text/plain": [
       "0.038209690024382"
      ]
     },
     "execution_count": 40,
     "metadata": {},
     "output_type": "execute_result"
    }
   ],
   "source": [
    "def circular_area(diameter):\n",
    "    return diameter ** 2 * pi / 4\n",
    "\n",
    "\n",
    "def outlet_enthalpy_isentropic_expansion(h_1, p_1, p_2, eta, wf):\n",
    "    h_2s = PropsSI(\"H\", \"P\", p_2, \"S\", PropsSI(\"S\", \"H\", h_1, \"P\", p_1, wf), wf)\n",
    "    return eta * (h_2s - h_1) + h_1\n",
    "\n",
    "\n",
    "def sound_speed(p, h, wf):\n",
    "    Q = PropsSI(\"Q\", \"P\", p, \"H\", h, wf)\n",
    "    if Q > 0 and Q < 1:\n",
    "        c_l = PropsSI(\"A\", \"P\", p, \"Q\", 0, wf)\n",
    "        c_g = PropsSI(\"A\", \"P\", p, \"Q\", 1, wf)\n",
    "        rho_l = PropsSI(\"D\", \"P\", p, \"Q\", 0, wf)\n",
    "        rho_g = PropsSI(\"D\", \"P\", p, \"Q\", 0, wf)\n",
    "\n",
    "        return (\n",
    "            1 / (\n",
    "                (1 - Q) * ((1 - Q) / (c_l ** 2) + (Q * rho_l) / (rho_g * c_g ** 2)) ** 0.5\n",
    "                + Q * ((Q / c_g ** 2) + ((1 - Q) * rho_g) / (rho_l * c_l ** 2)) ** 0.5\n",
    "            )\n",
    "        ) ** 0.5\n",
    "\n",
    "    else:\n",
    "        return PropsSI(\"A\", \"P\", p, \"H\", h, wf)\n",
    "\n",
    "\n",
    "D_t = 2.82 * 1e-3\n",
    "D_p1 = 5.10 * 1e-3\n",
    "D_3 = 9.20 * 1e-3\n",
    "P_p = 6.04 * 1e5\n",
    "P_s = 0.40 * 1e5\n",
    "ω = 0.438\n",
    "eta_n = 0.95\n",
    "\n",
    "wf = \"R141b\"\n",
    "\n",
    "A_t = circular_area(D_t)\n",
    "A_p1 = circular_area(D_p1)\n",
    "A_3 = circular_area(D_3)\n",
    "\n",
    "# assume saturated states\n",
    "T_p = PropsSI(\"T\", \"P\", P_p, \"Q\", 0, wf)\n",
    "T_s = PropsSI(\"T\", \"P\", P_s, \"Q\", 1, wf)\n",
    "h_p = PropsSI(\"H\", \"P\", P_p, \"Q\", 0, wf)\n",
    "h_s = PropsSI(\"H\", \"P\", P_s, \"Q\", 1, wf)\n",
    "\n",
    "P_t = P_p * 0.8\n",
    "d = 1e-3\n",
    "\n",
    "while True:\n",
    "\n",
    "    h_t = outlet_enthalpy_isentropic_expansion(h_p, P_p, P_t, eta_n, wf)\n",
    "    c_t = sound_speed(P_t, h_t, wf)\n",
    "    h_t_2 = h_p - c_t ** 2 / 2\n",
    "    residual = h_t - h_t_2\n",
    "\n",
    "    P_t += d\n",
    "\n",
    "    h_t = outlet_enthalpy_isentropic_expansion(h_p, P_p, P_t, eta_n, wf)\n",
    "    c_t = sound_speed(P_t, h_t, wf)\n",
    "    h_t_2 = h_p - c_t ** 2 / 2\n",
    "    residual_u = h_t - h_t_2\n",
    "\n",
    "    derivative = (residual_u - residual) / (d)\n",
    "    P_t -= d\n",
    "\n",
    "    P_t -= residual / derivative\n",
    "    if abs(residual) < 1e-6:\n",
    "        break\n",
    "\n",
    "h_t = outlet_enthalpy_isentropic_expansion(h_p, P_p, P_t, eta_n, wf)\n",
    "rho_t = PropsSI(\"D\", \"P\", P_t, \"H\", h_t, wf)\n",
    "c_t = (2 * (h_p - h_t)) ** 0.5\n",
    "m = rho_t * A_t * c_t\n",
    "m\n"
   ]
  },
  {
   "cell_type": "code",
   "execution_count": 41,
   "metadata": {},
   "outputs": [
    {
     "data": {
      "text/plain": [
       "(604000.0, 491984.09806351893, 601903.1862618986)"
      ]
     },
     "execution_count": 41,
     "metadata": {},
     "output_type": "execute_result"
    }
   ],
   "source": [
    "P_p1 = P_t * 0.7\n",
    "\n",
    "while True:\n",
    "    h_p1 = outlet_enthalpy_isentropic_expansion(h_t, P_t, P_p1, eta_n, wf)\n",
    "    rho_p1 = PropsSI(\"D\", \"P\", P_p1, \"H\", h_p1, wf)\n",
    "    c_p1 = m / (A_p1 * rho_p1)\n",
    "    h_p1_2 = h_t + c_t ** 2 / 2 - c_p1 ** 2 / 2\n",
    "\n",
    "    residual = h_p1 - h_p1_2\n",
    "\n",
    "    P_p1 += d\n",
    "\n",
    "    h_p1 = outlet_enthalpy_isentropic_expansion(h_t, P_t, P_p1, eta_n, wf)\n",
    "\n",
    "    rho_p1 = PropsSI(\"D\", \"P\", P_p1, \"H\", h_p1, wf)\n",
    "    c_p1 = m / (A_p1 * rho_p1)\n",
    "    h_p1_2 = h_t + c_t ** 2 / 2 - c_p1 ** 2 / 2\n",
    "\n",
    "    P_p1 -= d\n",
    "\n",
    "    derivative = ((h_p1 - h_p1_2) - residual) / d\n",
    "\n",
    "    P_p1 -= residual / derivative\n",
    "\n",
    "    if abs(residual) <= 1e-6:\n",
    "        break\n",
    "\n",
    "\n",
    "\n",
    "# This result is incorrect!\n",
    "P_p, P_t, P_p1"
   ]
  }
 ],
 "metadata": {
  "kernelspec": {
   "display_name": "tespy-env-py311",
   "language": "python",
   "name": "python3"
  },
  "language_info": {
   "codemirror_mode": {
    "name": "ipython",
    "version": 3
   },
   "file_extension": ".py",
   "mimetype": "text/x-python",
   "name": "python",
   "nbconvert_exporter": "python",
   "pygments_lexer": "ipython3",
   "version": "3.11.9"
  }
 },
 "nbformat": 4,
 "nbformat_minor": 2
}
