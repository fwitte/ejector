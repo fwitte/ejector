{
 "cells": [
  {
   "cell_type": "code",
   "execution_count": 39,
   "metadata": {},
   "outputs": [],
   "source": [
    "from math import pi\n",
    "from CoolProp.CoolProp import PropsSI"
   ]
  },
  {
   "cell_type": "code",
   "execution_count": 40,
   "metadata": {},
   "outputs": [
    {
     "data": {
      "text/plain": [
       "0.038209690024382"
      ]
     },
     "execution_count": 40,
     "metadata": {},
     "output_type": "execute_result"
    }
   ],
   "source": [
    "def circular_area(diameter):\n",
    "    return diameter ** 2 * pi / 4\n",
    "\n",
    "\n",
    "def outlet_enthalpy_isentropic_expansion(h_1, p_1, p_2, eta, wf):\n",
    "    h_2s = PropsSI(\"H\", \"P\", p_2, \"S\", PropsSI(\"S\", \"H\", h_1, \"P\", p_1, wf), wf)\n",
    "    return eta * (h_2s - h_1) + h_1\n",
    "\n",
    "\n",
    "def sound_speed(p, h, wf):\n",
    "    Q = PropsSI(\"Q\", \"P\", p, \"H\", h, wf)\n",
    "    if Q > 0 and Q < 1:\n",
    "        c_l = PropsSI(\"A\", \"P\", p, \"Q\", 0, wf)\n",
    "        c_g = PropsSI(\"A\", \"P\", p, \"Q\", 1, wf)\n",
    "        rho_l = PropsSI(\"D\", \"P\", p, \"Q\", 0, wf)\n",
    "        rho_g = PropsSI(\"D\", \"P\", p, \"Q\", 1, wf)\n",
    "\n",
    "        return (\n",
    "            1 / (\n",
    "                (1 - Q) * ((1 - Q) / (c_l ** 2) + (Q * rho_l) / (rho_g * c_g ** 2)) ** 0.5\n",
    "                + Q * ((Q / c_g ** 2) + ((1 - Q) * rho_g) / (rho_l * c_l ** 2)) ** 0.5\n",
    "            )\n",
    "        ) ** 0.5\n",
    "\n",
    "    else:\n",
    "        return PropsSI(\"A\", \"P\", p, \"H\", h, wf)\n",
    "\n",
    "\n",
    "D_t = 2.82 * 1e-3\n",
    "D_p1 = 5.10 * 1e-3\n",
    "D_3 = 9.20 * 1e-3\n",
    "P_p = 6.04 * 1e5\n",
    "P_s = 0.40 * 1e5\n",
    "ω = 0.438\n",
    "eta_n = 0.95\n",
    "\n",
    "wf = \"R141b\"\n",
    "\n",
    "A_t = circular_area(D_t)\n",
    "A_p1 = circular_area(D_p1)\n",
    "A_3 = circular_area(D_3)\n",
    "\n",
    "# assume saturated states\n",
    "T_p = PropsSI(\"T\", \"P\", P_p, \"Q\", 0, wf)\n",
    "T_s = PropsSI(\"T\", \"P\", P_s, \"Q\", 1, wf)\n",
    "h_p = PropsSI(\"H\", \"P\", P_p, \"Q\", 0, wf)\n",
    "h_s = PropsSI(\"H\", \"P\", P_s, \"Q\", 1, wf)\n",
    "\n",
    "P_t = P_p * 0.8\n",
    "d = 1e-3\n",
    "\n",
    "while True:\n",
    "\n",
    "    h_t = outlet_enthalpy_isentropic_expansion(h_p, P_p, P_t, eta_n, wf)\n",
    "    c_t = sound_speed(P_t, h_t, wf)\n",
    "    h_t_2 = h_p - c_t ** 2 / 2\n",
    "    residual = h_t - h_t_2\n",
    "\n",
    "    P_t += d\n",
    "\n",
    "    h_t = outlet_enthalpy_isentropic_expansion(h_p, P_p, P_t, eta_n, wf)\n",
    "    c_t = sound_speed(P_t, h_t, wf)\n",
    "    h_t_2 = h_p - c_t ** 2 / 2\n",
    "    residual_u = h_t - h_t_2\n",
    "\n",
    "    derivative = (residual_u - residual) / (d)\n",
    "    P_t -= d\n",
    "\n",
    "    P_t -= residual / derivative\n",
    "    if abs(residual) < 1e-6:\n",
    "        break\n",
    "\n",
    "h_t = outlet_enthalpy_isentropic_expansion(h_p, P_p, P_t, eta_n, wf)\n",
    "rho_t = PropsSI(\"D\", \"P\", P_t, \"H\", h_t, wf)\n",
    "c_t = (2 * (h_p - h_t)) ** 0.5\n",
    "m = rho_t * A_t * c_t\n",
    "m\n"
   ]
  },
  {
   "cell_type": "code",
   "execution_count": 27,
   "metadata": {},
   "outputs": [
    {
     "data": {
      "text/plain": [
       "array([28360.1333474 , 25186.17660751, 22400.02945359, 19944.36416638,\n",
       "       17771.89558648, 15843.35592113, 14125.92886461, 12592.02795358,\n",
       "       11218.33548957,  9985.04053365,  8875.23031447,  7874.40082646,\n",
       "        6970.06073718,  6151.40886766,  5409.07007674,  4734.87780415,\n",
       "        4121.69411396,  3563.26005014,  3054.07062642,  2589.26993928,\n",
       "        2164.56279929,  1776.13998487,  1420.61478016,  1094.9688995 ,\n",
       "         796.50625163,   522.81327717,   271.72481745,    41.29465496,\n",
       "        -170.2299879 ,  -364.43058462,  -542.73657063,  -706.44215445,\n",
       "        -856.72102311,  -994.63923598, -1121.16655627, -1237.18643134,\n",
       "       -1343.50480165, -1440.85789189, -1529.91911551, -1611.30520526,\n",
       "       -1685.58166662, -1753.26763763, -1814.84022717, -1870.73839429,\n",
       "       -1921.36642269, -1967.0970375 , -2008.27420561, -2045.21565524,\n",
       "       -2078.21514622, -2107.54451865])"
      ]
     },
     "execution_count": 27,
     "metadata": {},
     "output_type": "execute_result"
    }
   ],
   "source": [
    "import numpy as np\n",
    "\n",
    "P_p1 = P_t * np.linspace(0.1, 0.3)\n",
    "\n",
    "# while True:\n",
    "h_p1 = outlet_enthalpy_isentropic_expansion(h_t, P_t, P_p1, eta_n, wf)\n",
    "rho_p1 = PropsSI(\"D\", \"P\", P_p1, \"H\", h_p1, wf)\n",
    "c_p1 = m / (A_p1 * rho_p1)\n",
    "h_p1_2 = h_t + c_t ** 2 / 2 - c_p1 ** 2 / 2\n",
    "\n",
    "residual = h_p1 - h_p1_2\n",
    "\n",
    "residual"
   ]
  },
  {
   "cell_type": "code",
   "execution_count": 28,
   "metadata": {},
   "outputs": [
    {
     "data": {
      "text/plain": [
       "(604000.0, 491984.09806351893, 103795.83652814342)"
      ]
     },
     "execution_count": 28,
     "metadata": {},
     "output_type": "execute_result"
    }
   ],
   "source": [
    "P_p1 = P_t * 0.1\n",
    "\n",
    "while True:\n",
    "    h_p1 = outlet_enthalpy_isentropic_expansion(h_t, P_t, P_p1, eta_n, wf)\n",
    "    rho_p1 = PropsSI(\"D\", \"P\", P_p1, \"H\", h_p1, wf)\n",
    "    c_p1 = m / (A_p1 * rho_p1)\n",
    "    h_p1_2 = h_t + c_t ** 2 / 2 - c_p1 ** 2 / 2\n",
    "\n",
    "    residual = h_p1 - h_p1_2\n",
    "\n",
    "    P_p1 += d\n",
    "\n",
    "    h_p1 = outlet_enthalpy_isentropic_expansion(h_t, P_t, P_p1, eta_n, wf)\n",
    "\n",
    "    rho_p1 = PropsSI(\"D\", \"P\", P_p1, \"H\", h_p1, wf)\n",
    "    c_p1 = m / (A_p1 * rho_p1)\n",
    "    h_p1_2 = h_t + c_t ** 2 / 2 - c_p1 ** 2 / 2\n",
    "\n",
    "    P_p1 -= d\n",
    "\n",
    "    derivative = ((h_p1 - h_p1_2) - residual) / d\n",
    "\n",
    "    P_p1 -= residual / derivative\n",
    "\n",
    "    if abs(residual) <= 1e-6:\n",
    "        break\n",
    "\n",
    "\n",
    "# recalculate to get true values\n",
    "h_p1 = outlet_enthalpy_isentropic_expansion(h_t, P_t, P_p1, eta_n, wf)\n",
    "rho_p1 = PropsSI(\"D\", \"P\", P_p1, \"H\", h_p1, wf)\n",
    "c_p1 = m / (A_p1 * rho_p1)\n",
    "\n",
    "P_p, P_t, P_p1"
   ]
  }
 ],
 "metadata": {
  "kernelspec": {
   "display_name": "tespy-env-py311",
   "language": "python",
   "name": "python3"
  },
  "language_info": {
   "codemirror_mode": {
    "name": "ipython",
    "version": 3
   },
   "file_extension": ".py",
   "mimetype": "text/x-python",
   "name": "python",
   "nbconvert_exporter": "python",
   "pygments_lexer": "ipython3",
   "version": "3.11.9"
  }
 },
 "nbformat": 4,
 "nbformat_minor": 2
}
